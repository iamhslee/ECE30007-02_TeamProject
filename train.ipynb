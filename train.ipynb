{
 "cells": [
  {
   "attachments": {},
   "cell_type": "markdown",
   "metadata": {},
   "source": [
    "## AI프로젝트입문 (ECE30007-02)\n",
    "Spring, 2023\n",
    "\n",
    "### Team Project: 미드바르 뿌리 이미지 인식 챌린지\n",
    "\n",
    "`Train.py`\n",
    "\n",
    "- Author: 이현서 (ID#22100600) <hslee@handong.ac.kr>\n"
   ]
  },
  {
   "attachments": {},
   "cell_type": "markdown",
   "metadata": {},
   "source": [
    "### 1. Dataset preprocessing"
   ]
  },
  {
   "cell_type": "code",
   "execution_count": null,
   "metadata": {},
   "outputs": [],
   "source": []
  }
 ],
 "metadata": {
  "language_info": {
   "name": "python"
  },
  "orig_nbformat": 4
 },
 "nbformat": 4,
 "nbformat_minor": 2
}
